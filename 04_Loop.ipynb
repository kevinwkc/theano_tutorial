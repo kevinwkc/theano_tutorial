{
 "cells": [
  {
   "cell_type": "code",
   "execution_count": 1,
   "metadata": {
    "collapsed": true
   },
   "outputs": [],
   "source": [
    "import numpy as np\n",
    "import theano\n",
    "import theano.tensor as T\n",
    "import matplotlib.pyplot as plt\n",
    "from theano import scan, function\n",
    "%matplotlib inline"
   ]
  },
  {
   "cell_type": "code",
   "execution_count": null,
   "metadata": {
    "collapsed": false
   },
   "outputs": [],
   "source": [
    "# compute tanh(XW + b)\n",
    "\n",
    "X, W = T.matrices(\"X\", \"W\")\n",
    "b_sym = T.vector(\"b_sym\")\n",
    "\n",
    "results, updates = theano.scan(lambda v: T.tanh(T.dot(v, W) + b_sym), sequences=X)\n",
    "compute_elementwise = theano.function(inputs=[X,W,b_sym], outputs=results)\n",
    "\n",
    "x = np.eye(2)\n",
    "w = np.ones((2, 2))\n",
    "b = np.ones((2))\n",
    "b[1] = 2\n",
    "\n",
    "print(compute_elementwise(x, w, b))\n",
    "print(np.tanh(x.dot(w) + b))"
   ]
  },
  {
   "cell_type": "code",
   "execution_count": null,
   "metadata": {
    "collapsed": false
   },
   "outputs": [],
   "source": [
    "# compute sequence x(t) = tanh(x(t-1).dot(W) + y(t).dot(U) + p(T-t).dot(V))\n",
    "X, b_sym = T.vectors(\"X\", \"b_sym\")\n",
    "W, U, Y, V, P = T.matrices(\"W\", \"U\", \"Y\", \"V\", \"P\")\n",
    "\n",
    "results, updates = theano.scan(lambda y, p, x_tm1: T.tanh(T.dot(x_tm1, W) + T.dot(y, U) + T.dot(p, V)), \n",
    "                              sequences = [Y, P[::-1]], outputs_info=[X])\n",
    "compute_seq = theano.function(inputs=[X, W, Y, U, P, V], outputs=results)\n",
    "\n",
    "# test values\n",
    "x = np.zeros(2)\n",
    "x[1] = 1\n",
    "w = np.ones((2, 2))\n",
    "y = np.ones((5, 2))\n",
    "y[0, :] = -3\n",
    "u = np.ones((2, 2))\n",
    "p = np.ones((5, 2))\n",
    "p[0, :] = 3\n",
    "v = np.ones((2,2))\n",
    "\n",
    "print(compute_seq(x, w, y, u, p, v))"
   ]
  },
  {
   "cell_type": "code",
   "execution_count": null,
   "metadata": {
    "collapsed": false
   },
   "outputs": [],
   "source": [
    "# Compute Eucliedian Norms of rows and columns of X\n",
    "\n",
    "X = T.matrix(\"X\")\n",
    "results, updates = theano.scan(lambda x_i: T.sqrt((x_i**2).sum()), sequences=[X])\n",
    "compute_norm_rows = theano.function(inputs=[X], outputs=results)\n",
    "\n",
    "# test values\n",
    "x = np.diag(np.arange(1, 6), 1)\n",
    "a = np.diag(np.arange(1, 6), -1)\n",
    "print(compute_norm_rows(x))\n",
    "\n",
    "res_col, updates_col = theano.scan(lambda x_i: T.sqrt((x_i**2).sum()), sequences=[X.T])\n",
    "compute_norm_cols = theano.function([X], res_col, updates=updates_col)\n",
    "\n",
    "print(compute_norm_cols(x))"
   ]
  },
  {
   "cell_type": "code",
   "execution_count": null,
   "metadata": {
    "collapsed": false
   },
   "outputs": [],
   "source": [
    "# compute a distance matrix of classic XOR data\n",
    "MU = [(0, 0), (1, 1), (0, 1), (1, 0)]\n",
    "sigma = 0.2**2\n",
    "N = 400\n",
    "m = len(MU[0])\n",
    "\n",
    "x1 = [np.random.multivariate_normal(MU[a], np.diag(np.repeat(sigma, m))) for a in (0 if np.random.rand() > 0.5 else 1 for i in range(N))]\n",
    "x2 = [np.random.multivariate_normal(MU[a], np.diag(np.repeat(sigma, m))) for a in (2 if np.random.rand() > 0.5 else 3 for i in range(N))]\n",
    "x = np.r_[x1, x2]\n",
    "viz_pts = False\n",
    "if viz_pts:\n",
    "    plt.scatter(*np.array(x1).T, c=\"r\")\n",
    "    plt.scatter(*np.array(x2).T, c=\"b\")\n",
    "    plt.show()\n",
    "\n",
    "# Sklearn \n",
    "from sklearn.metrics.pairwise import euclidean_distances\n",
    "print(\"Sklearn:\")\n",
    "%time D_sk = euclidean_distances(x)\n",
    "print(D_sk.shape)\n",
    "\n",
    "# Numpy Way\n",
    "def f_np(X):\n",
    "    D = np.empty((X.shape[0], X.shape[0]))\n",
    "    for i in range(X.shape[0]):\n",
    "        D[i,:] = np.sqrt(((X[i] - X)**2).sum(axis=1)) \n",
    "    return(D)\n",
    "print(\"Pure Numpy:\")\n",
    "%time D_np = f_np(x)\n",
    "print(np.allclose(D_sk, D_np))\n",
    "\n",
    "# Theano Way\n",
    "\n",
    "X = T.matrix(\"X\")\n",
    "i = T.iscalar(\"i\")\n",
    "\n",
    "# shit way without scan\n",
    "X_diff = T.sqrt(((X[i] - X)**2).sum(axis=1))\n",
    "f = theano.function([X, i], X_diff)\n",
    "\n",
    "print(\"Hybrid Theano/Numpy:\")\n",
    "%time D_th0 = np.array([f(x, i)for i in range(x.shape[0])])\n",
    "print(np.allclose(D_sk, D_th0))\n",
    "\n",
    "# pure Theano code\n",
    "res, ups = theano.scan(lambda i: T.sqrt(((X[i] - X)**2).sum(axis=1)), \n",
    "                       sequences=T.arange(X.shape[0]), outputs_info=None)\n",
    "f_scan = theano.function([X], res)\n",
    "\n",
    "print(\"Pure Theano:\")\n",
    "%time D_th1 = f_scan(x)\n",
    "print(np.allclose(D_sk, D_th1))\n"
   ]
  },
  {
   "cell_type": "code",
   "execution_count": 68,
   "metadata": {
    "collapsed": false
   },
   "outputs": [
    {
     "name": "stdout",
     "output_type": "stream",
     "text": [
      "[[0 0 0 0 0]\n",
      " [0 1 0 0 0]\n",
      " [0 0 2 0 0]\n",
      " [0 0 0 3 0]\n",
      " [0 0 0 0 4]]\n",
      "10.0\n"
     ]
    }
   ],
   "source": [
    "# Computing the trace of a matrix\n",
    "\n",
    "X = T.matrix(\"X\")\n",
    "res, ups = theano.scan(lambda i, j, t_f: T.cast(X[i, j] + t_f, dtype=\"float32\"), # dtype is required here\n",
    "                       sequences=[T.arange(X.shape[0]), T.arange(X.shape[1])], \n",
    "                       outputs_info=np.asarray(0., dtype=\"float32\"))\n",
    "res = res[-1]\n",
    "compute_trace = theano.function([X], res) # , updates=ups\n",
    "x = np.diag(np.arange(5))\n",
    "print(x)\n",
    "print(compute_trace(x))"
   ]
  },
  {
   "cell_type": "code",
   "execution_count": 6,
   "metadata": {
    "collapsed": false
   },
   "outputs": [
    {
     "name": "stdout",
     "output_type": "stream",
     "text": [
      "[[  1.40514825   1.40514825]\n",
      " [  2.88898899   2.38898899]\n",
      " [  4.34018291   4.34018291]\n",
      " [  6.53463142   6.78463142]\n",
      " [  9.82972243   9.82972243]\n",
      " [ 14.22203814  14.09703814]\n",
      " [ 20.07439936  20.07439936]\n",
      " [ 28.12291843  28.18541843]\n",
      " [ 39.1913681   39.1913681 ]\n",
      " [ 54.28407732  54.25282732]]\n"
     ]
    }
   ],
   "source": [
    "# Scan Example \"Time-Series\"\n",
    "X, W, U, V = T.matrices(\"X\", \"W\", \"U\", \"V\")\n",
    "b_sym = T.vector(\"b_sym\") # b_sym = symbolic b\n",
    "n_sym = T.iscalar(\"n_sym\")\n",
    "\n",
    "res, ups = scan(lambda x_tm2, x_tm1: T.dot(x_tm2, U) + T.dot(x_tm1, V) + T.tanh(T.dot(x_tm1, W) + b_sym), \n",
    "                n_steps=n_sym, outputs_info=[{\"initial\":X, \"taps\":[-2, -1]}])\n",
    "compute_seq2 = function([X, U, V, W, b_sym, n_sym], res)\n",
    "\n",
    "# test values\n",
    "\n",
    "x = np.zeros((2,2))\n",
    "x[1, 1] = 1\n",
    "w = 0.5 * np.ones((2,2))\n",
    "u = 0.5 * np.eye(2)[::-1]\n",
    "v = 0.5 * np.ones((2,2))\n",
    "n = 10\n",
    "b = np.ones(2)\n",
    "\n",
    "print(compute_seq2(x, u, v, w, b, n))\n"
   ]
  },
  {
   "cell_type": "code",
   "execution_count": 19,
   "metadata": {
    "collapsed": false
   },
   "outputs": [
    {
     "name": "stdout",
     "output_type": "stream",
     "text": [
      "[ 1.  0.  0.  0.  0.]\n",
      "[[ 1.  0.  0.]\n",
      " [ 0.  1.  0.]\n",
      " [ 1.  1.  1.]\n",
      " [ 0.  0.  0.]\n",
      " [ 0.  0.  0.]]\n",
      "[ 0.76159416  0.          0.        ]\n",
      "[[ 0.41997434  0.          0.41997434  0.          0.        ]\n",
      " [ 0.          1.          1.          0.          0.        ]\n",
      " [ 0.          0.          1.          0.          0.        ]]\n"
     ]
    }
   ],
   "source": [
    "# Compute the Jacobian of y = tanh(v.dot(A)) wrt x\n",
    "\n",
    "v = T.vector()\n",
    "A = T.matrix()\n",
    "y = T.tanh(T.dot(v, A))\n",
    "res, ups = scan(lambda i: T.grad(y[i], v), sequences=T.arange(y.shape[0]))\n",
    "compute_jac_t = function([A, v], res, allow_input_downcast=True)\n",
    "\n",
    "# test values\n",
    "x = np.eye(5)[0]\n",
    "w = np.eye(5, 3)\n",
    "w[2] = np.ones(3)\n",
    "print(x)\n",
    "print(w)\n",
    "print(np.tanh(np.dot(x, w)))\n",
    "print(compute_jac_t(w, x))\n"
   ]
  },
  {
   "cell_type": "code",
   "execution_count": 40,
   "metadata": {
    "collapsed": false
   },
   "outputs": [
    {
     "name": "stdout",
     "output_type": "stream",
     "text": [
      "0\n",
      "20\n"
     ]
    }
   ],
   "source": [
    "# Compute/Capture number of iterations\n",
    "\n",
    "k = theano.shared(0)\n",
    "n_sym = T.iscalar()\n",
    "step = T.iscalar() # added variable step size\n",
    "\n",
    "res, ups = scan(lambda step:{k:(k+step)}, n_steps=n_sym, non_sequences=[step]) # added step to lambda and non_seq\n",
    "accumulator = function([n_sym, step], [], updates=ups, allow_input_downcast=True)\n",
    "\n",
    "print(k.get_value())\n",
    "accumulator(10, 2)\n",
    "print(k.get_value())"
   ]
  },
  {
   "cell_type": "code",
   "execution_count": 46,
   "metadata": {
    "collapsed": false,
    "scrolled": false
   },
   "outputs": [
    {
     "name": "stdout",
     "output_type": "stream",
     "text": [
      "[[ 1.  0.]\n",
      " [ 0.  1.]\n",
      " [ 0.  0.]\n",
      " [ 0.  0.]\n",
      " [ 0.  0.]\n",
      " [ 0.  0.]\n",
      " [ 0.  0.]\n",
      " [ 0.  0.]\n",
      " [ 0.  0.]\n",
      " [ 0.  0.]]\n",
      "[[ 0.96402758  0.        ]\n",
      " [ 0.          0.96402758]\n",
      " [ 0.          0.        ]\n",
      " [ 0.76159416  0.76159416]\n",
      " [ 0.76159416  0.        ]\n",
      " [ 0.          0.76159416]\n",
      " [ 0.          0.76159416]\n",
      " [ 0.          0.76159416]\n",
      " [ 0.          0.        ]\n",
      " [ 0.76159416  0.76159416]]\n"
     ]
    }
   ],
   "source": [
    "# Computing tanh(v.dot(W) + b) * d where d is binomial\n",
    "\n",
    "X, W = T.matrices(\"X\", \"W\")\n",
    "b_sym = T.vector(\"b_sym\")\n",
    "\n",
    "# define shared random state\n",
    "trng = T.shared_randomstreams.RandomStreams(1234)\n",
    "d = trng.binomial(size=W[1].shape)\n",
    "\n",
    "res, ups = scan(lambda v: T.tanh(T.dot(v, W) + b_sym) * d, sequences=X)\n",
    "compute_with_bnoise = function([X, W, b_sym], res, updates=ups, allow_input_downcast=True)\n",
    "\n",
    "x = np.eye(10, 2)\n",
    "w = np.ones((2, 2))\n",
    "b = np.ones(2)\n",
    "print(x)\n",
    "print(compute_with_bnoise(x, w, b))"
   ]
  },
  {
   "cell_type": "code",
   "execution_count": 56,
   "metadata": {
    "collapsed": false
   },
   "outputs": [
    {
     "name": "stdout",
     "output_type": "stream",
     "text": [
      "[[   0.    1.    4.    9.   16.   25.   36.   49.   64.   81.]\n",
      " [   0.    1.    8.   27.   64.  125.  216.  343.  512.  729.]]\n"
     ]
    }
   ],
   "source": [
    "# Compute pow(A,k)\n",
    "k = T.iscalar(\"k\")\n",
    "A = T.vector(\"A\")\n",
    "\n",
    "def inner_fct(prior_result, B):\n",
    "    return prior_result * B\n",
    "\n",
    "# Symbolic description of the result\n",
    "result, updates = theano.scan(fn=inner_fct,\n",
    "                            outputs_info=T.ones_like(A),\n",
    "                            non_sequences=A, n_steps=k)\n",
    "\n",
    "# Scan has provided us with A ** 1 through A ** k.  Keep only the last\n",
    "# value. Scan notices this and does not waste memory saving them.\n",
    "final_result = result[-2:]\n",
    "\n",
    "power = theano.function(inputs=[A, k], outputs=final_result,\n",
    "                      updates=updates)\n",
    "\n",
    "print(power(range(10), 3))"
   ]
  },
  {
   "cell_type": "code",
   "execution_count": 91,
   "metadata": {
    "collapsed": false
   },
   "outputs": [
    {
     "name": "stdout",
     "output_type": "stream",
     "text": [
      "19.0\n"
     ]
    }
   ],
   "source": [
    "# Calculating a Polynomial\n",
    "\n",
    "# theano.config.warn.subtensor_merge_bug = False\n",
    "\n",
    "coeffs = T.vector(\"coeffs\")\n",
    "x = T.scalar(\"x\")\n",
    "outputs_info = T.as_tensor_variable(np.asarray(0, 'float64')) # set to accumulate results\n",
    "max_coeffs_supported = 10000\n",
    "\n",
    "# Generate components of polynomial\n",
    "\n",
    "full_range = T.arange(max_coeffs_supported)\n",
    "components, updates = scan(lambda coeff, power, pv, free_var: pv + coeff * (free_var ** power), \n",
    "                           sequences=[coeffs, full_range], non_sequences=x, \n",
    "                           outputs_info=outputs_info) # changed from none to accumulate results\n",
    "polynomial = components[-1]\n",
    "calculate_polynomial = function([coeffs, x], polynomial)\n",
    "\n",
    "# test values\n",
    "test_coeffs = np.array([1, 0, 2])\n",
    "print(calculate_polynomial(test_coeffs, 3))"
   ]
  },
  {
   "cell_type": "code",
   "execution_count": null,
   "metadata": {
    "collapsed": true
   },
   "outputs": [],
   "source": []
  }
 ],
 "metadata": {
  "kernelspec": {
   "display_name": "Python 3",
   "language": "python",
   "name": "python3"
  },
  "language_info": {
   "codemirror_mode": {
    "name": "ipython",
    "version": 3
   },
   "file_extension": ".py",
   "mimetype": "text/x-python",
   "name": "python",
   "nbconvert_exporter": "python",
   "pygments_lexer": "ipython3",
   "version": "3.5.2"
  }
 },
 "nbformat": 4,
 "nbformat_minor": 2
}
