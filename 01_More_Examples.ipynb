{
 "cells": [
  {
   "cell_type": "code",
   "execution_count": 2,
   "metadata": {
    "collapsed": true
   },
   "outputs": [],
   "source": [
    "import numpy as np\n",
    "import theano.tensor as T\n",
    "import theano"
   ]
  },
  {
   "cell_type": "code",
   "execution_count": 6,
   "metadata": {
    "collapsed": false
   },
   "outputs": [
    {
     "name": "stdout",
     "output_type": "stream",
     "text": [
      "[[ 0.5         0.73105858]\n",
      " [ 0.26894142  0.11920292]]\n",
      "[[ 0.5         0.73105858]\n",
      " [ 0.26894142  0.11920292]]\n"
     ]
    }
   ],
   "source": [
    "x = T.dmatrix(\"x\")\n",
    "s = 1. / (1. + T.exp(-x))\n",
    "logistic = theano.function([x], s)\n",
    "print(logistic([[0., 1.], [-1., -2.]]))\n",
    "s2 = (1 + T.tanh(x/2)) / 2\n",
    "logistic2 = theano.function([x], s2)\n",
    "print(logistic2([[0., 1.], [-1., -2.]]))"
   ]
  },
  {
   "cell_type": "code",
   "execution_count": 9,
   "metadata": {
    "collapsed": false
   },
   "outputs": [
    {
     "data": {
      "text/plain": [
       "[array([[ 3., -3.]]), array([[ 3.,  3.]]), array([[ 9.,  9.]])]"
      ]
     },
     "execution_count": 9,
     "metadata": {},
     "output_type": "execute_result"
    }
   ],
   "source": [
    "a, b = T.dmatrices('a', 'b')\n",
    "diff = a - b\n",
    "abs_diff = abs(diff)\n",
    "diff_squared = diff**2\n",
    "f = theano.function([a, b], [diff, abs_diff, diff_squared])\n",
    "f([[5, 2]], [[2, 5]])"
   ]
  },
  {
   "cell_type": "code",
   "execution_count": 15,
   "metadata": {
    "collapsed": false
   },
   "outputs": [
    {
     "data": {
      "text/plain": [
       "(array(11.0), array(11.0))"
      ]
     },
     "execution_count": 15,
     "metadata": {},
     "output_type": "execute_result"
    }
   ],
   "source": [
    "x, y = T.dscalars('x', 'y')\n",
    "z = x + y\n",
    "f = theano.function([x, theano.In(y, value=1)], z)\n",
    "f(10), f(10,1)"
   ]
  },
  {
   "cell_type": "code",
   "execution_count": 24,
   "metadata": {
    "collapsed": false
   },
   "outputs": [
    {
     "data": {
      "text/plain": [
       "(array(22.0), array(33.0), array(36.0))"
      ]
     },
     "execution_count": 24,
     "metadata": {},
     "output_type": "execute_result"
    }
   ],
   "source": [
    "x, y, w = T.scalars('x', 'y_not', 'w')\n",
    "z = (x + y) * w\n",
    "f = theano.function([x, theano.In(y, value=1), theano.In(w, value=2, name=\"w_by_name\")], z)\n",
    "f(10), f(10, w_by_name=3), f(10, w_by_name=3, y_not=2)"
   ]
  },
  {
   "cell_type": "code",
   "execution_count": 50,
   "metadata": {
    "collapsed": false
   },
   "outputs": [],
   "source": [
    "state = theano.shared(0)\n",
    "inc = T.iscalar('inc')\n",
    "accumulator = theano.function([inc], state, updates=[(state, state+inc)], on_unused_input='warn') # updates takes '(shared-var, new-expression)'\n"
   ]
  },
  {
   "cell_type": "code",
   "execution_count": 31,
   "metadata": {
    "collapsed": false
   },
   "outputs": [
    {
     "name": "stdout",
     "output_type": "stream",
     "text": [
      "0\n",
      "0\n",
      "1\n",
      "1\n",
      "301\n"
     ]
    }
   ],
   "source": [
    "state.set_value(0)\n",
    "print(state.get_value())\n",
    "print(accumulator(1)) # prints current state value not new value\n",
    "print(state.get_value())\n",
    "print(accumulator(300))\n",
    "print(state.get_value())"
   ]
  },
  {
   "cell_type": "code",
   "execution_count": 33,
   "metadata": {
    "collapsed": false
   },
   "outputs": [
    {
     "name": "stdout",
     "output_type": "stream",
     "text": [
      "10\n",
      "5\n",
      "15\n",
      "10\n"
     ]
    }
   ],
   "source": [
    "decrementor = theano.function([inc], state, updates=[(state, state-inc)])\n",
    "state.set_value(0)\n",
    "accumulator(10)\n",
    "print(state.get_value())\n",
    "decrementor(5)\n",
    "print(state.get_value())\n",
    "decrementor(-10)\n",
    "print(state.get_value())\n",
    "accumulator(-5)\n",
    "print(state.get_value())"
   ]
  },
  {
   "cell_type": "code",
   "execution_count": 37,
   "metadata": {
    "collapsed": false
   },
   "outputs": [
    {
     "data": {
      "text/plain": [
       "(array(7), array(10))"
      ]
     },
     "execution_count": 37,
     "metadata": {},
     "output_type": "execute_result"
    }
   ],
   "source": [
    "fn_of_state = state * 2 + inc\n",
    "foo = T.scalar(dtype = state.dtype)\n",
    "skip_shared = theano.function([inc, foo], fn_of_state, givens=[(state, foo)])\n",
    "skip_shared(1, 3), state.get_value()"
   ]
  },
  {
   "cell_type": "code",
   "execution_count": 43,
   "metadata": {
    "collapsed": false
   },
   "outputs": [
    {
     "name": "stdout",
     "output_type": "stream",
     "text": [
      "10\n",
      "100 10\n"
     ]
    },
    {
     "data": {
      "text/plain": [
       "([array(0)], None)"
      ]
     },
     "execution_count": 43,
     "metadata": {},
     "output_type": "execute_result"
    }
   ],
   "source": [
    "state.set_value(0), state.get_value()\n",
    "accumulator(10), print(state.get_value())\n",
    "new_state = theano.shared(0)\n",
    "new_accumulator = accumulator.copy(swap={state:new_state})\n",
    "new_accumulator(100), print(new_state.get_value(), state.get_value())\n"
   ]
  },
  {
   "cell_type": "code",
   "execution_count": 53,
   "metadata": {
    "collapsed": false
   },
   "outputs": [
    {
     "name": "stdout",
     "output_type": "stream",
     "text": [
      "[array(0)] 0\n"
     ]
    },
    {
     "name": "stderr",
     "output_type": "stream",
     "text": [
      "/home/david/miniconda3/lib/python3.5/site-packages/IPython/core/interactiveshell.py:2821: UserWarning: theano.function was asked to create a function computing outputs given certain inputs, but the provided input variable at index 0 is not part of the computational graph needed to compute the outputs: inc.\n",
      "To make this warning into an error, you can pass the parameter on_unused_input='raise' to theano.function. To disable it completely, use on_unused_input='ignore'.\n",
      "  if self.run_code(code, result):\n"
     ]
    }
   ],
   "source": [
    "null_accumulator = accumulator.copy(delete_updates=True)\n",
    "print(null_accumulator(9000), state.get_value())"
   ]
  },
  {
   "cell_type": "code",
   "execution_count": 60,
   "metadata": {
    "collapsed": false
   },
   "outputs": [
    {
     "name": "stdout",
     "output_type": "stream",
     "text": [
      "[[ 0.60021117  0.97288269]\n",
      " [ 0.52115434  0.30299242]] [[ 0.19618627  0.71826149]\n",
      " [ 0.08793276  0.73265941]]\n",
      "[[ 1.08775828 -0.90589691]\n",
      " [ 0.69614725 -0.48121802]] [[ 1.08775828 -0.90589691]\n",
      " [ 0.69614725 -0.48121802]]\n",
      "[[ 0.  0.]\n",
      " [ 0.  0.]]\n"
     ]
    }
   ],
   "source": [
    "from theano.tensor.shared_randomstreams import RandomStreams\n",
    "from theano import function\n",
    "srng = RandomStreams(seed=12543)\n",
    "rv_u = srng.uniform((2, 2))\n",
    "rv_n = srng.normal((2, 2))\n",
    "f = function([], rv_u)\n",
    "g = function([], rv_n, no_default_updates=True)\n",
    "nearly_zeros = function([], rv_u + rv_u - 2 * rv_u)\n",
    "f_val0 = f()\n",
    "f_val1 = f()\n",
    "g_val0 = g()\n",
    "g_val1 = g()\n",
    "print(f_val0, f_val1)\n",
    "print(g_val0, g_val1)\n",
    "print(nearly_zeros())"
   ]
  },
  {
   "cell_type": "code",
   "execution_count": 62,
   "metadata": {
    "collapsed": false
   },
   "outputs": [
    {
     "name": "stdout",
     "output_type": "stream",
     "text": [
      "[[ 0.  0.]\n",
      " [ 0.  0.]]\n",
      "[[ 0.18770837  0.33941054]\n",
      " [ 0.03833877  0.12951773]] [[ 0.65937998  0.05769814]\n",
      " [ 0.62882717  0.55863177]] [[ 0.18770837  0.33941054]\n",
      " [ 0.03833877  0.12951773]]\n"
     ]
    }
   ],
   "source": [
    "state_after_v0 = rv_u.rng.get_value().get_state()\n",
    "print(nearly_zeros())\n",
    "v1 = f()\n",
    "rng = rv_u.rng.get_value(borrow=True)\n",
    "rng.set_state(state_after_v0)\n",
    "rv_u.rng.set_value(rng, borrow=True)\n",
    "v2 = f()\n",
    "v3 = f()\n",
    "print(v1, v2, v3)\n"
   ]
  },
  {
   "cell_type": "code",
   "execution_count": null,
   "metadata": {
    "collapsed": true
   },
   "outputs": [],
   "source": []
  }
 ],
 "metadata": {
  "kernelspec": {
   "display_name": "Python 3",
   "language": "python",
   "name": "python3"
  },
  "language_info": {
   "codemirror_mode": {
    "name": "ipython",
    "version": 3
   },
   "file_extension": ".py",
   "mimetype": "text/x-python",
   "name": "python",
   "nbconvert_exporter": "python",
   "pygments_lexer": "ipython3",
   "version": "3.5.2"
  }
 },
 "nbformat": 4,
 "nbformat_minor": 2
}
