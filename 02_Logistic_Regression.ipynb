{
 "cells": [
  {
   "cell_type": "code",
   "execution_count": 8,
   "metadata": {
    "collapsed": false,
    "scrolled": false
   },
   "outputs": [
    {
     "name": "stdout",
     "output_type": "stream",
     "text": [
      "Initial Model:\n",
      "b: ()\n",
      "w: (784,)\n",
      "Final model:\n",
      "b: ()\n",
      "w: (784,)\n",
      "target values for D:\n",
      "[0 1 0 1 1 1 0 1 0 0 1 0 1 0 1 1 0 0 1 1 1 0 0 0 0 0 0 0 0 0 1 0 0 1 0 0 1\n",
      " 0 0 1 0 1 1 0 0 0 0 1 1 0 1 0 1 1 1 1 0 1 0 0 0 1 1 0 1 1 0 0 1 1 0 1 0 1\n",
      " 1 0 1 0 0 1 1 1 1 0 0 1 1 1 0 0 1 0 1 1 0 0 0 0 1 1 0 0 0 1 0 0 0 1 0 0 1\n",
      " 0 0 1 0 0 1 1 1 1 1 0 0 1 1 0 1 0 0 0 0 0 0 1 0 0 0 0 1 0 0 1 1 0 1 1 1 0\n",
      " 1 1 1 0 0 0 1 0 1 1 0 0 0 0 1 1 0 1 1 0 1 1 1 0 0 1 0 1 1 1 1 1 0 1 0 0 1\n",
      " 0 1 1 1 1 1 0 0 0 1 1 1 1 0 0 1 0 1 1 1 1 0 1 1 0 1 1 0 1 1 1 0 1 1 1 0 0\n",
      " 0 1 0 1 1 0 1 0 0 1 0 1 1 1 0 0 0 0 1 0 1 1 0 1 1 1 1 0 1 0 0 1 0 0 1 1 1\n",
      " 1 1 1 0 0 0 1 0 0 1 0 1 0 0 1 1 0 1 0 1 0 1 1 1 0 1 0 0 0 0 0 1 1 0 1 0 1\n",
      " 0 0 0 1 1 0 1 1 0 0 0 1 0 0 1 1 0 1 0 0 0 0 0 0 0 0 1 0 0 1 0 0 1 0 0 1 1\n",
      " 1 0 1 0 1 1 1 1 1 0 1 0 1 1 1 0 1 0 1 0 1 1 0 1 1 1 1 0 1 0 1 1 0 0 0 1 1\n",
      " 0 1 1 0 1 1 1 1 0 0 0 0 1 1 1 1 0 1 0 1 0 1 0 0 1 1 0 0 0 1]\n",
      "prediction on D:\n",
      "[0 1 0 1 1 1 0 1 0 0 1 0 1 0 1 1 0 0 1 1 1 0 0 0 0 0 0 0 0 0 1 0 0 1 0 0 1\n",
      " 0 0 1 0 1 1 0 0 0 0 1 1 0 1 0 1 1 1 1 0 1 0 0 0 1 1 0 1 1 0 0 1 1 0 1 0 1\n",
      " 1 0 1 0 0 1 1 1 1 0 0 1 1 1 0 0 1 0 1 1 0 0 0 0 1 1 0 0 0 1 0 0 0 1 0 0 1\n",
      " 0 0 1 0 0 1 1 1 1 1 0 0 1 1 0 1 0 0 0 0 0 0 1 0 0 0 0 1 0 0 1 1 0 1 1 1 0\n",
      " 1 1 1 0 0 0 1 0 1 1 0 0 0 0 1 1 0 1 1 0 1 1 1 0 0 1 0 1 1 1 1 1 0 1 0 0 1\n",
      " 0 1 1 1 1 1 0 0 0 1 1 1 1 0 0 1 0 1 1 1 1 0 1 1 0 1 1 0 1 1 1 0 1 1 1 0 0\n",
      " 0 1 0 1 1 0 1 0 0 1 0 1 1 1 0 0 0 0 1 0 1 1 0 1 1 1 1 0 1 0 0 1 0 0 1 1 1\n",
      " 1 1 1 0 0 0 1 0 0 1 0 1 0 0 1 1 0 1 0 1 0 1 1 1 0 1 0 0 0 0 0 1 1 0 1 0 1\n",
      " 0 0 0 1 1 0 1 1 0 0 0 1 0 0 1 1 0 1 0 0 0 0 0 0 0 0 1 0 0 1 0 0 1 0 0 1 1\n",
      " 1 0 1 0 1 1 1 1 1 0 1 0 1 1 1 0 1 0 1 0 1 1 0 1 1 1 1 0 1 0 1 1 0 0 0 1 1\n",
      " 0 1 1 0 1 1 1 1 0 0 0 0 1 1 1 1 0 1 0 1 0 1 0 0 1 1 0 0 0 1]\n",
      "softmax\n",
      "[[ 0.    0.    0.    0.    0.    0.    0.    0.    0.    0.    0.    0.    0.\n",
      "   0.    0.    0.    0.    0.    0.    0.01  0.    0.    0.    0.    0.    0.\n",
      "   0.    0.    0.    0.    0.    0.    0.    0.04  0.    0.    0.    0.    0.\n",
      "   0.    0.    0.    0.    0.    0.    0.    0.    0.    0.    0.    0.    0.\n",
      "   0.    0.01  0.    0.    0.    0.    0.    0.    0.    0.    0.    0.    0.\n",
      "   0.    0.    0.    0.    0.    0.    0.    0.    0.06  0.    0.    0.    0.\n",
      "   0.    0.    0.01  0.    0.01  0.    0.    0.    0.02  0.    0.    0.    0.\n",
      "   0.    0.    0.01  0.    0.    0.    0.    0.02  0.    0.    0.    0.    0.\n",
      "   0.    0.    0.    0.    0.    0.    0.    0.    0.    0.    0.    0.    0.\n",
      "   0.    0.    0.01  0.    0.    0.    0.    0.    0.    0.    0.    0.    0.\n",
      "   0.    0.    0.    0.    0.    0.    0.    0.    0.01  0.    0.    0.    0.\n",
      "   0.    0.    0.    0.    0.    0.    0.    0.    0.    0.    0.    0.    0.\n",
      "   0.    0.    0.    0.    0.    0.    0.    0.    0.    0.01  0.    0.    0.\n",
      "   0.02  0.    0.    0.    0.    0.    0.    0.    0.    0.    0.1   0.    0.\n",
      "   0.    0.    0.    0.    0.    0.    0.    0.    0.    0.    0.    0.    0.\n",
      "   0.    0.    0.    0.    0.    0.    0.    0.    0.02  0.    0.    0.    0.\n",
      "   0.    0.    0.    0.    0.    0.    0.01  0.    0.    0.    0.    0.    0.\n",
      "   0.    0.    0.01  0.    0.    0.    0.    0.    0.    0.    0.    0.    0.\n",
      "   0.    0.    0.    0.    0.    0.    0.    0.    0.01  0.    0.    0.    0.\n",
      "   0.    0.    0.    0.    0.    0.    0.    0.    0.    0.    0.02  0.    0.\n",
      "   0.    0.    0.    0.    0.    0.    0.    0.    0.    0.    0.    0.    0.\n",
      "   0.02  0.02  0.    0.    0.    0.    0.    0.    0.    0.    0.    0.    0.\n",
      "   0.    0.    0.    0.    0.    0.    0.    0.01  0.    0.    0.    0.    0.\n",
      "   0.    0.01  0.    0.    0.05  0.    0.    0.    0.    0.    0.    0.    0.\n",
      "   0.    0.    0.    0.    0.    0.    0.    0.    0.    0.    0.    0.    0.\n",
      "   0.    0.    0.    0.    0.    0.    0.01  0.    0.    0.    0.01  0.\n",
      "   0.01  0.    0.    0.    0.    0.    0.    0.    0.    0.01  0.    0.    0.\n",
      "   0.    0.    0.    0.    0.    0.    0.01  0.    0.    0.    0.    0.01\n",
      "   0.    0.    0.    0.    0.    0.    0.01  0.    0.    0.    0.    0.    0.\n",
      "   0.    0.    0.    0.    0.    0.    0.    0.01  0.    0.    0.    0.\n",
      "   0.01  0.    0.    0.    0.01  0.    0.    0.    0.    0.    0.    0.\n",
      "   0.01]]\n"
     ]
    }
   ],
   "source": [
    "import numpy as np\n",
    "import theano\n",
    "import theano.tensor as T\n",
    "import matplotlib.pyplot as plt\n",
    "%matplotlib inline\n",
    "rng = np.random\n",
    "\n",
    "N = 400\n",
    "feats = 784\n",
    "\n",
    "D = (rng.randn(N, feats), rng.randint(size=N, low=0, high=2))\n",
    "training_steps = 10000\n",
    "\n",
    "# declare Theano vars\n",
    "x = T.dmatrix(\"X\")\n",
    "y = T.vector(\"y\")\n",
    "\n",
    "# initialize weight vector and bias\n",
    "w = theano.shared(rng.randn(feats), name=\"w\")\n",
    "b = theano.shared(0., name=\"b\")\n",
    "\n",
    "print(\"Initial Model:\")\n",
    "print(\"b: {}\\nw: {}\".format(b.get_value().shape, w.get_value().shape))\n",
    "\n",
    "p_1 = 1 / (1 + T.exp(-T.dot(x, w) - b))\n",
    "preds = p_1 > 0.5\n",
    "xent = -y * T.log(p_1) - (1-y) * T.log(1 - p_1)\n",
    "cost = xent.mean() + 0.01 * (w ** 2).sum()\n",
    "\n",
    "p_2 = T.nnet.softmax(T.dot(x, w) + b)\n",
    "preds2 = p_1 > 0.5\n",
    "xent2 = -y * T.log(p_1) - (1-y) * T.log(1 - p_1)\n",
    "\n",
    "gw, gb = T.grad(cost, [w, b])\n",
    "\n",
    "train = theano.function(\n",
    "            inputs=[x,y],\n",
    "            outputs=[preds, xent],\n",
    "            updates=((w, w - 0.1 * gw), (b, b - 0.1 * gb)))\n",
    "predict = theano.function(inputs=[x], outputs=preds)\n",
    "train2 = theano.function([x,y],[preds, xent], updates=((w, w - 0.1 * gw), (b, b - 0.1 * gb)))\n",
    "predict_sm = theano.function([x], p_2)\n",
    "# train\n",
    "E = []\n",
    "for i in range(training_steps):\n",
    "    pred, err = train(D[0], D[1])\n",
    "    E.append(err.mean())\n",
    "\n",
    "print(\"Final model:\")\n",
    "print(\"b:\", b.get_value().shape)\n",
    "print(\"w:\", w.get_value().shape)\n",
    "print(\"target values for D:\")\n",
    "print(D[1])\n",
    "print(\"prediction on D:\")\n",
    "print(predict(D[0]))\n",
    "print(\"softmax\")\n",
    "print(np.round(predict_sm(D[0]),2))"
   ]
  },
  {
   "cell_type": "code",
   "execution_count": 11,
   "metadata": {
    "collapsed": false
   },
   "outputs": [
    {
     "data": {
      "text/plain": [
       "[<matplotlib.lines.Line2D at 0x7f750995dba8>]"
      ]
     },
     "execution_count": 11,
     "metadata": {},
     "output_type": "execute_result"
    },
    {
     "data": {
      "image/png": "[encoded data removed]",
      "text/plain": [
       "<matplotlib.figure.Figure at 0x7f7509879dd8>"
      ]
     },
     "metadata": {},
     "output_type": "display_data"
    }
   ],
   "source": [
    "import matplotlib.pyplot as plt\n",
    "%matplotlib inline\n",
    "plt.plot(E)"
   ]
  },
  {
   "cell_type": "code",
   "execution_count": 10,
   "metadata": {
    "collapsed": false
   },
   "outputs": [
    {
     "name": "stdout",
     "output_type": "stream",
     "text": [
      "target values for D:\n",
      "[0 1 0 1 1 1 0 1 0 0 1 0 1 0 1 1 0 0 1 1 1 0 0 0 0 0 0 0 0 0 1 0 0 1 0 0 1\n",
      " 0 0 1 0 1 1 0 0 0 0 1 1 0 1 0 1 1 1 1 0 1 0 0 0 1 1 0 1 1 0 0 1 1 0 1 0 1\n",
      " 1 0 1 0 0 1 1 1 1 0 0 1 1 1 0 0 1 0 1 1 0 0 0 0 1 1 0 0 0 1 0 0 0 1 0 0 1\n",
      " 0 0 1 0 0 1 1 1 1 1 0 0 1 1 0 1 0 0 0 0 0 0 1 0 0 0 0 1 0 0 1 1 0 1 1 1 0\n",
      " 1 1 1 0 0 0 1 0 1 1 0 0 0 0 1 1 0 1 1 0 1 1 1 0 0 1 0 1 1 1 1 1 0 1 0 0 1\n",
      " 0 1 1 1 1 1 0 0 0 1 1 1 1 0 0 1 0 1 1 1 1 0 1 1 0 1 1 0 1 1 1 0 1 1 1 0 0\n",
      " 0 1 0 1 1 0 1 0 0 1 0 1 1 1 0 0 0 0 1 0 1 1 0 1 1 1 1 0 1 0 0 1 0 0 1 1 1\n",
      " 1 1 1 0 0 0 1 0 0 1 0 1 0 0 1 1 0 1 0 1 0 1 1 1 0 1 0 0 0 0 0 1 1 0 1 0 1\n",
      " 0 0 0 1 1 0 1 1 0 0 0 1 0 0 1 1 0 1 0 0 0 0 0 0 0 0 1 0 0 1 0 0 1 0 0 1 1\n",
      " 1 0 1 0 1 1 1 1 1 0 1 0 1 1 1 0 1 0 1 0 1 1 0 1 1 1 1 0 1 0 1 1 0 0 0 1 1\n",
      " 0 1 1 0 1 1 1 1 0 0 0 0 1 1 1 1 0 1 0 1 0 1 0 0 1 1 0 0 0 1]\n",
      "prediction on D:\n",
      "[[0 0 0 0 0 0 0 0 0 0 0 0 0 0 0 0 0 0 0 0 0 0 0 0 0 0 0 0 0 0 0 0 0 0 0 0 0\n",
      "  0 0 0 0 0 0 0 0 0 0 0 0 0 0 0 0 0 0 0 0 0 0 0 0 0 0 0 0 0 0 0 0 0 0 0 0 0\n",
      "  0 0 0 0 0 0 0 0 0 0 0 0 0 0 0 0 0 0 0 0 0 0 0 0 0 0 0 0 0 0 0 0 0 0 0 0 0\n",
      "  0 0 0 0 0 0 0 0 0 0 0 0 0 0 0 0 0 0 0 0 0 0 0 0 0 0 0 0 0 0 0 0 0 0 0 0 0\n",
      "  0 0 0 0 0 0 0 0 0 0 0 0 0 0 0 0 0 0 0 0 0 0 0 0 0 0 0 0 0 0 0 0 0 0 0 0 0\n",
      "  0 0 0 0 0 0 0 0 0 0 0 0 0 0 0 0 0 0 0 0 0 0 0 0 0 0 0 0 0 0 0 0 0 0 0 0 0\n",
      "  0 0 0 0 0 0 0 0 0 0 0 0 0 0 0 0 0 0 0 0 0 0 0 0 0 0 0 0 0 0 0 0 0 0 0 0 0\n",
      "  0 0 0 0 0 0 0 0 0 0 0 0 0 0 0 0 0 0 0 0 0 0 0 0 0 0 0 0 0 0 0 0 0 0 0 0 0\n",
      "  0 0 0 0 0 0 0 0 0 0 0 0 0 0 0 0 0 0 0 0 0 0 0 0 0 0 0 0 0 0 0 0 0 0 0 0 0\n",
      "  0 0 0 0 0 0 0 0 0 0 0 0 0 0 0 0 0 0 0 0 0 0 0 0 0 0 0 0 0 0 0 0 0 0 0 0 0\n",
      "  0 0 0 0 0 0 0 0 0 0 0 0 0 0 0 0 0 0 0 0 0 0 0 0 0 0 0 0 0 0]]\n"
     ]
    }
   ],
   "source": [
    "# declare Theano vars\n",
    "x = T.dmatrix(\"X\")\n",
    "y = T.vector(\"y\")\n",
    "\n",
    "# initialize weight vector and bias\n",
    "w = theano.shared(rng.randn(feats), name=\"w\")\n",
    "b = theano.shared(0., name=\"b\")\n",
    "\n",
    "p_2 = 1 / (1 + T.exp(-T.dot(x, w) - b))\n",
    "preds2 = p_2 > 0.5\n",
    "mse = 0.5*T.sqr(y - p_2)\n",
    "cost2 = mse.mean() + 0.01 * (w ** 2).sum()\n",
    "\n",
    "gw, gb = T.grad(cost2, [w, b])\n",
    "\n",
    "train = theano.function(\n",
    "            inputs=[x,y],\n",
    "            outputs=[preds2, mse],\n",
    "            updates=((w, w - 0.1 * gw), (b, b - 0.1 * gb)))\n",
    "predict = theano.function(inputs=[x], outputs=preds2)\n",
    "predict_proba = theano.function(inputs=[x], outputs=p_2)\n",
    "\n",
    "# train\n",
    "E = []\n",
    "for i in range(training_steps):\n",
    "    pred, err = train(D[0], D[1])\n",
    "    E.append(err.mean())\n",
    "\n",
    "print(\"target values for D:\")\n",
    "print(D[1])\n",
    "print(\"prediction on D:\")\n",
    "print(predict(D[0]))"
   ]
  },
  {
   "cell_type": "code",
   "execution_count": 11,
   "metadata": {
    "collapsed": false
   },
   "outputs": [
    {
     "data": {
      "text/plain": [
       "[<matplotlib.lines.Line2D at 0x7f28bf500438>]"
      ]
     },
     "execution_count": 11,
     "metadata": {},
     "output_type": "execute_result"
    },
    {
     "data": {
      "image/png": "[encoded data removed]",
      "text/plain": [
       "<matplotlib.figure.Figure at 0x7f28cdbaac88>"
      ]
     },
     "metadata": {},
     "output_type": "display_data"
    }
   ],
   "source": [
    "plt.plot(E)"
   ]
  },
  {
   "cell_type": "code",
   "execution_count": null,
   "metadata": {
    "collapsed": true
   },
   "outputs": [],
   "source": []
  }
 ],
 "metadata": {
  "kernelspec": {
   "display_name": "Python 3",
   "language": "python",
   "name": "python3"
  },
  "language_info": {
   "codemirror_mode": {
    "name": "ipython",
    "version": 3
   },
   "file_extension": ".py",
   "mimetype": "text/x-python",
   "name": "python",
   "nbconvert_exporter": "python",
   "pygments_lexer": "ipython3",
   "version": "3.5.2"
  }
 },
 "nbformat": 4,
 "nbformat_minor": 2
}
