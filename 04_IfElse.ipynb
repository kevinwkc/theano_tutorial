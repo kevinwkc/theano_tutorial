{
 "cells": [
  {
   "cell_type": "code",
   "execution_count": 4,
   "metadata": {
    "collapsed": true
   },
   "outputs": [],
   "source": [
    "import numpy as np\n",
    "import theano.tensor as T\n",
    "from theano.ifelse import ifelse\n",
    "import theano"
   ]
  },
  {
   "cell_type": "code",
   "execution_count": 10,
   "metadata": {
    "collapsed": false
   },
   "outputs": [
    {
     "name": "stdout",
     "output_type": "stream",
     "text": [
      "CPU times: user 35.6 ms, sys: 0 ns, total: 35.6 ms\n",
      "Wall time: 35.6 ms\n",
      "CPU times: user 19.9 ms, sys: 0 ns, total: 19.9 ms\n",
      "Wall time: 19.4 ms\n"
     ]
    },
    {
     "data": {
      "text/plain": [
       "array(0.5000252043065667)"
      ]
     },
     "execution_count": 10,
     "metadata": {},
     "output_type": "execute_result"
    }
   ],
   "source": [
    "a, b = T.scalars('a', 'b')\n",
    "X, Y = T.matrices('X', 'Y')\n",
    "z_switch = T.switch(T.lt(a, b), T.mean(X), T.mean(Y)) # T.lt is elementwise less-than\n",
    "z_ifelse = ifelse(T.lt(a, b), T.mean(X), T.mean(Y))\n",
    "f_switch = theano.function([a, b, X, Y], z_switch, mode=theano.Mode(linker='vm'))\n",
    "f_ifelse = theano.function([a, b, X, Y], z_ifelse, mode=theano.Mode(linker='vm'))\n",
    "\n",
    "val0 = 0\n",
    "val1 = 1\n",
    "#big_mat0 = np.ones((10000,1000))\n",
    "#big_mat1 = np.ones((10000,1000))\n",
    "big_mat0 = np.random.rand(10000,1000)\n",
    "big_mat1 = np.random.rand(10000,1000)\n",
    "\n",
    "%time f_switch(val0, val1, big_mat0, big_mat1)\n",
    "%time f_ifelse(val0, val1, big_mat0, big_mat1)"
   ]
  },
  {
   "cell_type": "code",
   "execution_count": 11,
   "metadata": {
    "collapsed": true
   },
   "outputs": [],
   "source": [
    "T.lt?"
   ]
  }
 ],
 "metadata": {
  "kernelspec": {
   "display_name": "Python 3",
   "language": "python",
   "name": "python3"
  },
  "language_info": {
   "codemirror_mode": {
    "name": "ipython",
    "version": 3
   },
   "file_extension": ".py",
   "mimetype": "text/x-python",
   "name": "python",
   "nbconvert_exporter": "python",
   "pygments_lexer": "ipython3",
   "version": "3.5.2"
  }
 },
 "nbformat": 4,
 "nbformat_minor": 2
}
