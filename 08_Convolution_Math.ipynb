{
 "cells": [
  {
   "cell_type": "code",
   "execution_count": 1,
   "metadata": {
    "collapsed": true
   },
   "outputs": [],
   "source": [
    "import numpy as np\n",
    "import theano.tensor as tt\n",
    "import theano\n",
    "from scipy import ndimage\n",
    "import matplotlib.pyplot as plt\n",
    "%matplotlib inline"
   ]
  },
  {
   "cell_type": "code",
   "execution_count": null,
   "metadata": {
    "collapsed": true
   },
   "outputs": [],
   "source": [
    "im = ndimage.imread(\"data/david.jpg\")\n",
    "im = im[136:336, 49:449] # crop\n",
    "print(\"Shape:\", im.shape)\n",
    "plt.imshow(im, cmap=\"gray\")\n",
    "plt.show()"
   ]
  },
  {
   "cell_type": "code",
   "execution_count": 83,
   "metadata": {
    "collapsed": false
   },
   "outputs": [
    {
     "name": "stdout",
     "output_type": "stream",
     "text": [
      "(1, 1, 5, 5) (1, 1, 3, 3)\n",
      "[[[[3 3 2 1 0]\n",
      "   [0 0 1 3 1]\n",
      "   [3 1 2 2 3]\n",
      "   [2 0 0 2 2]\n",
      "   [2 0 0 0 1]]]]\n",
      "[[[[0 1 2]\n",
      "   [2 2 0]\n",
      "   [0 1 2]]]]\n",
      "[[[[ 12.  12.  17.]\n",
      "   [ 10.  17.  19.]\n",
      "   [  9.   6.  14.]]]]\n"
     ]
    }
   ],
   "source": [
    "# simple 2d convolution\n",
    "# note the filter_flip flag is not the default, apparently this is called \n",
    "# a cross-correlation whereas True would be for convolutions.\n",
    "X = tt.tensor4(\"X\")\n",
    "A = tt.tensor4(\"A\")\n",
    "y = tt.nnet.conv2d(X, A, input_shape=(1, 1, 5, 5), filter_shape=(1, 1, 3, 3), \n",
    "                   subsample=(1, 1), border_mode=(0,0), filter_flip=False)\n",
    "f = theano.function([X, A], y)\n",
    "x = np.array([[[[3, 3, 2, 1, 0], \n",
    "                [0, 0, 1, 3, 1],\n",
    "                [3, 1, 2, 2, 3], \n",
    "                [2, 0, 0, 2, 2], \n",
    "                [2, 0, 0, 0, 1]]]])\n",
    "a = np.array([[[[0, 1, 2],\n",
    "                [2, 2, 0],\n",
    "                [0, 1, 2]]]])\n",
    "b = np.array([[[[0, 0, 0],\n",
    "                [0, 0, 0],\n",
    "                [0, 0, 1]]]])\n",
    "c = np.array([[[[1, 0, 0],\n",
    "                [0, 0, 0],\n",
    "                [0, 0, 0]]]])\n",
    "print(x.shape, a.shape)\n",
    "print(x)\n",
    "print(a)\n",
    "print(f(x, a))\n"
   ]
  },
  {
   "cell_type": "code",
   "execution_count": 97,
   "metadata": {
    "collapsed": false
   },
   "outputs": [
    {
     "name": "stdout",
     "output_type": "stream",
     "text": [
      "[[[[  1.   5.   6.]\n",
      "   [  7.   8.   3.]\n",
      "   [  3.  10.   4.]]]]\n"
     ]
    }
   ],
   "source": [
    "X = tt.tensor4(\"X\")\n",
    "A = tt.tensor4(\"A\")\n",
    "Y = tt.nnet.conv2d(X, A, border_mode=(1, 1), subsample=(2, 2), \n",
    "                   input_shape=(1, 1, 5, 5), filter_shape=(1, 1, 3, 3),\n",
    "                   filter_flip=False)\n",
    "f = theano.function([X, A], Y)\n",
    "\n",
    "# test values\n",
    "x = np.array([[[[2, 2, 3, 3, 3], \n",
    "                [0, 1, 3, 0, 3],\n",
    "                [2, 3, 0, 1, 3], \n",
    "                [3, 3, 2, 1, 2], \n",
    "                [3, 3, 0, 2, 3]]]])\n",
    "a = np.array([[[[2, 0, 1],\n",
    "                [1, 0, 0],\n",
    "                [0, 1, 1]]]])\n",
    "'''\n",
    "The \"answer\" in the picture is incorrect\n",
    "y = np.array([[[[1, 6, 5],\n",
    "                [7, 10, 9],\n",
    "                [7, 10, 8]]]])\n",
    "'''\n",
    "print(f(x, a))"
   ]
  },
  {
   "cell_type": "raw",
   "metadata": {},
   "source": []
  },
  {
   "cell_type": "code",
   "execution_count": 54,
   "metadata": {
    "collapsed": false
   },
   "outputs": [
    {
     "name": "stdout",
     "output_type": "stream",
     "text": [
      "Object `np.flip` not found.\n"
     ]
    }
   ],
   "source": []
  }
 ],
 "metadata": {
  "kernelspec": {
   "display_name": "Python 3",
   "language": "python",
   "name": "python3"
  },
  "language_info": {
   "codemirror_mode": {
    "name": "ipython",
    "version": 3
   },
   "file_extension": ".py",
   "mimetype": "text/x-python",
   "name": "python",
   "nbconvert_exporter": "python",
   "pygments_lexer": "ipython3",
   "version": "3.5.2"
  }
 },
 "nbformat": 4,
 "nbformat_minor": 2
}
