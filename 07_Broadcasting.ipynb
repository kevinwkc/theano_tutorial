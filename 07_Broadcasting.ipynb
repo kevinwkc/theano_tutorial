{
 "cells": [
  {
   "cell_type": "code",
   "execution_count": 1,
   "metadata": {
    "collapsed": true
   },
   "outputs": [],
   "source": [
    "import numpy as np\n",
    "import theano.tensor as tt\n",
    "import theano"
   ]
  },
  {
   "cell_type": "code",
   "execution_count": 4,
   "metadata": {
    "collapsed": false
   },
   "outputs": [
    {
     "name": "stdout",
     "output_type": "stream",
     "text": [
      "(True, False)\n",
      "(False, False)\n",
      "[[0 1 2]]\n",
      "[[0 1 2]\n",
      " [3 4 5]\n",
      " [6 7 8]]\n",
      "[array([[  0.,   2.,   4.],\n",
      "       [  3.,   5.,   7.],\n",
      "       [  6.,   8.,  10.]])]\n",
      "(False, True)\n",
      "[[0]\n",
      " [1]\n",
      " [2]]\n",
      "[array([[  0.,   1.,   2.],\n",
      "       [  4.,   5.,   6.],\n",
      "       [  8.,   9.,  10.]])]\n"
     ]
    }
   ],
   "source": [
    "r = tt.row()\n",
    "print(r.broadcastable)\n",
    "mtr = tt.matrix()\n",
    "print(mtr.broadcastable)\n",
    "f_row = theano.function([r, mtr], [r + mtr])\n",
    "R = np.arange(3).reshape(1, 3)\n",
    "print(R)\n",
    "M = np.arange(9).reshape(3, 3)\n",
    "print(M)\n",
    "print(f_row(R,M))\n",
    "c = tt.col()\n",
    "print(c.broadcastable)\n",
    "f_col = theano.function([c, mtr], [c + mtr])\n",
    "C = R.T\n",
    "print(C)\n",
    "print(f_col(C, M))"
   ]
  }
 ],
 "metadata": {
  "kernelspec": {
   "display_name": "Python 3",
   "language": "python",
   "name": "python3"
  },
  "language_info": {
   "codemirror_mode": {
    "name": "ipython",
    "version": 3
   },
   "file_extension": ".py",
   "mimetype": "text/x-python",
   "name": "python",
   "nbconvert_exporter": "python",
   "pygments_lexer": "ipython3",
   "version": "3.5.2"
  }
 },
 "nbformat": 4,
 "nbformat_minor": 2
}
