{
 "cells": [
  {
   "cell_type": "code",
   "execution_count": 12,
   "metadata": {
    "collapsed": true
   },
   "outputs": [],
   "source": [
    "import numpy as np\n",
    "import theano\n",
    "import theano.tensor as T\n",
    "from theano import pp\n",
    "import matplotlib.pyplot as plt\n",
    "%matplotlib inline"
   ]
  },
  {
   "cell_type": "code",
   "execution_count": 8,
   "metadata": {
    "collapsed": false
   },
   "outputs": [
    {
     "data": {
      "text/plain": [
       "(array(8.0), True)"
      ]
     },
     "execution_count": 8,
     "metadata": {},
     "output_type": "execute_result"
    }
   ],
   "source": [
    "x =  T.scalar('x')\n",
    "y = x ** 2\n",
    "gy = T.grad(y, x)\n",
    "pp(gy)\n",
    "f = theano.function([x], gy)\n",
    "f(4), np.allclose(f(94.2), 188.4)"
   ]
  },
  {
   "cell_type": "code",
   "execution_count": 33,
   "metadata": {
    "collapsed": false
   },
   "outputs": [
    {
     "data": {
      "text/plain": [
       "[<matplotlib.lines.Line2D at 0x7fcc38d1b160>]"
      ]
     },
     "execution_count": 33,
     "metadata": {},
     "output_type": "execute_result"
    },
    {
     "data": {
      "image/png": "[encoded data removed]",
      "text/plain": [
       "<matplotlib.figure.Figure at 0x7fcc38d52cc0>"
      ]
     },
     "metadata": {},
     "output_type": "display_data"
    }
   ],
   "source": [
    "# Logistic Function Differentiation\n",
    "x = T.dmatrix('x')\n",
    "s = 1 / (1 + T.exp(-x)) # note in the original, the T.sum() function is here\n",
    "gs = T.grad(T.sum(s), x)\n",
    "logistic = theano.function([x], s)\n",
    "dlogistic = theano.function([x], gs)\n",
    "x_in = np.linspace(-6, 6)\n",
    "plt.plot(x_in, logistic([x_in]).flatten(), c=\"blue\")\n",
    "plt.plot(x_in, dlogistic([x_in]).flatten(), c=\"red\")"
   ]
  },
  {
   "cell_type": "code",
   "execution_count": 50,
   "metadata": {
    "collapsed": false
   },
   "outputs": [
    {
     "data": {
      "text/plain": [
       "(array([[  8.,   0.],\n",
       "        [  0.,  32.]]), Reshape{1}.0)"
      ]
     },
     "execution_count": 50,
     "metadata": {},
     "output_type": "execute_result"
    }
   ],
   "source": [
    "# Computing the Jacobian of a matrix\n",
    "\n",
    "x = T.dvector('x')\n",
    "y = x ** 2\n",
    "J, updates = theano.scan(lambda i, y, x: T.grad(y[i], x), sequences=T.arange(y.shape[0]), non_sequences=[y, x])\n",
    "f = theano.function([x], J, updates=updates)\n",
    "# theano.gradient.jacobian(y, x) <- figure that one out\n",
    "f([4,16])"
   ]
  },
  {
   "cell_type": "code",
   "execution_count": 53,
   "metadata": {
    "collapsed": false
   },
   "outputs": [
    {
     "data": {
      "text/plain": [
       "array([[ 2.,  0.],\n",
       "       [ 0.,  2.]])"
      ]
     },
     "execution_count": 53,
     "metadata": {},
     "output_type": "execute_result"
    }
   ],
   "source": [
    "# Computing the Hessian\n",
    "# this could be done with theano.gradient.hessian\n",
    "\n",
    "x = T.dvector('x')\n",
    "y = x ** 2\n",
    "cost = y.sum()\n",
    "gy = T.grad(cost, x)\n",
    "H, updates = theano.scan(lambda i, gy, x: T.grad(gy[i], x), sequences=T.arange(gy.shape[0]), non_sequences=[gy,x])\n",
    "f = theano.function([x], H, updates=updates)\n",
    "f([4, 8])\n"
   ]
  },
  {
   "cell_type": "code",
   "execution_count": 87,
   "metadata": {
    "collapsed": false
   },
   "outputs": [
    {
     "data": {
      "text/plain": [
       "([array([-0.11111111]), array([-0.2962963])],\n",
       " 'log((((TensorConstant{6.283185307179586} * (sigma ** TensorConstant{2})) ** TensorConstant{-0.5}) * exp(((-((TensorConstant{2} * (sigma ** TensorConstant{2})) ** TensorConstant{-1})) * ((TensorConstant{0} - mu) ** TensorConstant{2})))))')"
      ]
     },
     "execution_count": 87,
     "metadata": {},
     "output_type": "execute_result"
    }
   ],
   "source": [
    "# Compute Normal score function\n",
    "x = 0\n",
    "mu = T.dvector('mu')\n",
    "sigma = T.dvector('sigma')\n",
    "pdf = (2*np.pi*sigma**2)**-0.5*T.exp(-(2*sigma**2)**-1 * (x - mu)**2)\n",
    "score = T.grad(T.log(pdf).sum(), [mu, sigma])\n",
    "f = theano.function([mu, sigma], score)\n",
    "f([1], [np.sqrt(9)])"
   ]
  },
  {
   "cell_type": "code",
   "execution_count": 93,
   "metadata": {
    "collapsed": false
   },
   "outputs": [
    {
     "data": {
      "text/plain": [
       "(array([ 2.,  2.]), array([[ 0.,  0.],\n",
       "        [ 2.,  2.]]))"
      ]
     },
     "execution_count": 93,
     "metadata": {},
     "output_type": "execute_result"
    }
   ],
   "source": [
    "# R operator and L Operator\n",
    "# This is the Jacobian times a vector or matrix.  R and L stand for what \n",
    "# side the vector is multiplied from i.e. [df(a)/dx].dot(V) or V.dot([df(a)/dx])\n",
    "\n",
    "W, V = T.dmatrices(\"W\", \"V\")\n",
    "x, v = T.vectors(\"x\", \"v\")\n",
    "y = T.dot(x, W)\n",
    "JV = T.Rop(y, W, V)\n",
    "VJ = T.Lop(y, W, v)\n",
    "\n",
    "f_R = theano.function([W,V,x], JV)\n",
    "f_L = theano.function([v,x], VJ)\n",
    "f_R([[1, 1], [1, 1]], [[2, 2], [2, 2]], [0,1]), f_L([2,2],[0, 1])"
   ]
  }
 ],
 "metadata": {
  "kernelspec": {
   "display_name": "Python 3",
   "language": "python",
   "name": "python3"
  },
  "language_info": {
   "codemirror_mode": {
    "name": "ipython",
    "version": 3
   },
   "file_extension": ".py",
   "mimetype": "text/x-python",
   "name": "python",
   "nbconvert_exporter": "python",
   "pygments_lexer": "ipython3",
   "version": "3.5.2"
  }
 },
 "nbformat": 4,
 "nbformat_minor": 2
}
